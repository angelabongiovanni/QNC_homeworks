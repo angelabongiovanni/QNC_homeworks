{
  "cells": [
    {
      "cell_type": "markdown",
      "metadata": {
        "id": "FiWc3zhUZe5V"
      },
      "source": [
        "[![Open In Colab](https://colab.research.google.com/assets/colab-badge.svg)](https://colab.research.google.com/github/PennNGG/Quantitative-Neuroscience/blob/master/Probability%20Distributions/Python/Gaussian%20%28Normal%29.ipynb)"
      ]
    },
    {
      "cell_type": "markdown",
      "metadata": {
        "id": "pKIiY6p3GRFq"
      },
      "source": [
        "# Definition"
      ]
    },
    {
      "cell_type": "markdown",
      "metadata": {
        "id": "x7VmLUr5GTNw"
      },
      "source": [
        "The Gaussian distribution is a continuous function that is often described as the normal distribution or bell-shaped function.\n",
        "\n",
        "It can be used to describe discrete events when the number of events is very large, in which case it approximates the [binomial distribution](https://colab.research.google.com/drive/1q1KaEjkAzUKRFSLPQ0SFdqU_byc70Oi2?usp=sharing). It is also useful (albeit sometimes overused) because of the Central Limit Theorem (Links to an external site.), which states that when you add together enough independent random variables, their sum tends to be normally distributed.\n",
        "\n",
        "Mathematically, the Gaussian probability distribution is defined by just two parameters, the mean ($\\mu$) and variance ($\\sigma^2$):\n",
        "\n",
        "$f(x; \\mu, \\sigma^2) = \\frac{1}{\\sqrt{2\\pi\\sigma^2}}e^-\\frac{(x-\\mu)^2}{2\\sigma^2}$."
      ]
    },
    {
      "cell_type": "markdown",
      "metadata": {
        "id": "bkVu6eGKIIiQ"
      },
      "source": [
        "# Getting Started with Code\n"
      ]
    },
    {
      "cell_type": "markdown",
      "metadata": {
        "id": "gxusMZ-UN_6m"
      },
      "source": [
        "Matlab code is found in the [NGG Statistics GitHub Repository](https://github.com/PennNGG/Statistics.git) under \"Probability Distributions/Gaussian.m\".\n",
        "\n",
        "Python code is included below. First run the code cell just below to make sure all of the required Python modules are loaded, then you can run the other cell(s)."
      ]
    },
    {
      "cell_type": "code",
      "execution_count": 1,
      "metadata": {
        "id": "W633IbbRIdwa"
      },
      "outputs": [],
      "source": [
        "import matplotlib.pyplot as plt\n",
        "import numpy as np\n",
        "import scipy.stats as st\n"
      ]
    },
    {
      "cell_type": "markdown",
      "metadata": {
        "id": "isP38xJSbJuA"
      },
      "source": [
        "# Tutorial"
      ]
    },
    {
      "cell_type": "markdown",
      "metadata": {
        "id": "TxnQo6eOZe5f"
      },
      "source": []
    },
    {
      "cell_type": "code",
      "execution_count": 49,
      "metadata": {
        "colab": {
          "base_uri": "https://localhost:8080/",
          "height": 768
        },
        "id": "Z32Do1n-bkQ9",
        "outputId": "b52bcedf-fef7-4670-a397-cf17235ff90d"
      },
      "outputs": [
        {
          "output_type": "display_data",
          "data": {
            "text/plain": [
              "<Figure size 432x288 with 1 Axes>"
            ],
            "image/png": "[encoded data removed]"
          },
          "metadata": {
            "needs_background": "light"
          }
        },
        {
          "output_type": "stream",
          "name": "stdout",
          "text": [
            "Sample mean = 70.970\n",
            "Expected value of empirical distribution = 84.255\n",
            "Expected value of the theoretical distribution = 59.839\n"
          ]
        },
        {
          "output_type": "stream",
          "name": "stderr",
          "text": [
            "/usr/local/lib/python3.7/dist-packages/ipykernel_launcher.py:48: RuntimeWarning: invalid value encountered in true_divide\n"
          ]
        },
        {
          "output_type": "error",
          "ename": "AxisError",
          "evalue": "ignored",
          "traceback": [
            "\u001b[0;31m---------------------------------------------------------------------------\u001b[0m",
            "\u001b[0;31mAxisError\u001b[0m                                 Traceback (most recent call last)",
            "\u001b[0;32m<ipython-input-49-b0e33dacbdc3>\u001b[0m in \u001b[0;36m<module>\u001b[0;34m\u001b[0m\n\u001b[1;32m     50\u001b[0m \u001b[0;31m# The easier way\u001b[0m\u001b[0;34m\u001b[0m\u001b[0;34m\u001b[0m\u001b[0;34m\u001b[0m\u001b[0m\n\u001b[1;32m     51\u001b[0m \u001b[0;31m#z2Samples = st.zscore(samples)\u001b[0m\u001b[0;34m\u001b[0m\u001b[0;34m\u001b[0m\u001b[0;34m\u001b[0m\u001b[0m\n\u001b[0;32m---> 52\u001b[0;31m \u001b[0mz2mu\u001b[0m \u001b[0;34m=\u001b[0m \u001b[0mst\u001b[0m\u001b[0;34m.\u001b[0m\u001b[0mzscore\u001b[0m\u001b[0;34m(\u001b[0m\u001b[0mmu\u001b[0m\u001b[0;34m)\u001b[0m\u001b[0;34m\u001b[0m\u001b[0;34m\u001b[0m\u001b[0m\n\u001b[0m\u001b[1;32m     53\u001b[0m \u001b[0;34m\u001b[0m\u001b[0m\n\u001b[1;32m     54\u001b[0m \u001b[0;34m\u001b[0m\u001b[0m\n",
            "\u001b[0;32m/usr/local/lib/python3.7/dist-packages/scipy/stats/stats.py\u001b[0m in \u001b[0;36mzscore\u001b[0;34m(a, axis, ddof, nan_policy)\u001b[0m\n\u001b[1;32m   2472\u001b[0m            [-0.91611681, -0.89090508,  1.4983032 ,  0.88731639, -0.5785977 ]])\n\u001b[1;32m   2473\u001b[0m     \"\"\"\n\u001b[0;32m-> 2474\u001b[0;31m     \u001b[0;32mreturn\u001b[0m \u001b[0mzmap\u001b[0m\u001b[0;34m(\u001b[0m\u001b[0ma\u001b[0m\u001b[0;34m,\u001b[0m \u001b[0ma\u001b[0m\u001b[0;34m,\u001b[0m \u001b[0maxis\u001b[0m\u001b[0;34m=\u001b[0m\u001b[0maxis\u001b[0m\u001b[0;34m,\u001b[0m \u001b[0mddof\u001b[0m\u001b[0;34m=\u001b[0m\u001b[0mddof\u001b[0m\u001b[0;34m,\u001b[0m \u001b[0mnan_policy\u001b[0m\u001b[0;34m=\u001b[0m\u001b[0mnan_policy\u001b[0m\u001b[0;34m)\u001b[0m\u001b[0;34m\u001b[0m\u001b[0;34m\u001b[0m\u001b[0m\n\u001b[0m\u001b[1;32m   2475\u001b[0m \u001b[0;34m\u001b[0m\u001b[0m\n\u001b[1;32m   2476\u001b[0m \u001b[0;34m\u001b[0m\u001b[0m\n",
            "\u001b[0;32m/usr/local/lib/python3.7/dist-packages/scipy/stats/stats.py\u001b[0m in \u001b[0;36mzmap\u001b[0;34m(scores, compare, axis, ddof, nan_policy)\u001b[0m\n\u001b[1;32m   2542\u001b[0m             \u001b[0misconst\u001b[0m \u001b[0;34m=\u001b[0m \u001b[0mnp\u001b[0m\u001b[0;34m.\u001b[0m\u001b[0mapply_along_axis\u001b[0m\u001b[0;34m(\u001b[0m\u001b[0m_isconst\u001b[0m\u001b[0;34m,\u001b[0m \u001b[0maxis\u001b[0m\u001b[0;34m,\u001b[0m \u001b[0ma\u001b[0m\u001b[0;34m)\u001b[0m\u001b[0;34m\u001b[0m\u001b[0;34m\u001b[0m\u001b[0m\n\u001b[1;32m   2543\u001b[0m     \u001b[0;32melse\u001b[0m\u001b[0;34m:\u001b[0m\u001b[0;34m\u001b[0m\u001b[0;34m\u001b[0m\u001b[0m\n\u001b[0;32m-> 2544\u001b[0;31m         \u001b[0mmn\u001b[0m \u001b[0;34m=\u001b[0m \u001b[0ma\u001b[0m\u001b[0;34m.\u001b[0m\u001b[0mmean\u001b[0m\u001b[0;34m(\u001b[0m\u001b[0maxis\u001b[0m\u001b[0;34m=\u001b[0m\u001b[0maxis\u001b[0m\u001b[0;34m,\u001b[0m \u001b[0mkeepdims\u001b[0m\u001b[0;34m=\u001b[0m\u001b[0;32mTrue\u001b[0m\u001b[0;34m)\u001b[0m\u001b[0;34m\u001b[0m\u001b[0;34m\u001b[0m\u001b[0m\n\u001b[0m\u001b[1;32m   2545\u001b[0m         \u001b[0mstd\u001b[0m \u001b[0;34m=\u001b[0m \u001b[0ma\u001b[0m\u001b[0;34m.\u001b[0m\u001b[0mstd\u001b[0m\u001b[0;34m(\u001b[0m\u001b[0maxis\u001b[0m\u001b[0;34m=\u001b[0m\u001b[0maxis\u001b[0m\u001b[0;34m,\u001b[0m \u001b[0mddof\u001b[0m\u001b[0;34m=\u001b[0m\u001b[0mddof\u001b[0m\u001b[0;34m,\u001b[0m \u001b[0mkeepdims\u001b[0m\u001b[0;34m=\u001b[0m\u001b[0;32mTrue\u001b[0m\u001b[0;34m)\u001b[0m\u001b[0;34m\u001b[0m\u001b[0;34m\u001b[0m\u001b[0m\n\u001b[1;32m   2546\u001b[0m         \u001b[0;32mif\u001b[0m \u001b[0maxis\u001b[0m \u001b[0;32mis\u001b[0m \u001b[0;32mNone\u001b[0m\u001b[0;34m:\u001b[0m\u001b[0;34m\u001b[0m\u001b[0;34m\u001b[0m\u001b[0m\n",
            "\u001b[0;32m/usr/local/lib/python3.7/dist-packages/numpy/core/_methods.py\u001b[0m in \u001b[0;36m_mean\u001b[0;34m(a, axis, dtype, out, keepdims, where)\u001b[0m\n\u001b[1;32m    165\u001b[0m     \u001b[0mis_float16_result\u001b[0m \u001b[0;34m=\u001b[0m \u001b[0;32mFalse\u001b[0m\u001b[0;34m\u001b[0m\u001b[0;34m\u001b[0m\u001b[0m\n\u001b[1;32m    166\u001b[0m \u001b[0;34m\u001b[0m\u001b[0m\n\u001b[0;32m--> 167\u001b[0;31m     \u001b[0mrcount\u001b[0m \u001b[0;34m=\u001b[0m \u001b[0m_count_reduce_items\u001b[0m\u001b[0;34m(\u001b[0m\u001b[0marr\u001b[0m\u001b[0;34m,\u001b[0m \u001b[0maxis\u001b[0m\u001b[0;34m,\u001b[0m \u001b[0mkeepdims\u001b[0m\u001b[0;34m=\u001b[0m\u001b[0mkeepdims\u001b[0m\u001b[0;34m,\u001b[0m \u001b[0mwhere\u001b[0m\u001b[0;34m=\u001b[0m\u001b[0mwhere\u001b[0m\u001b[0;34m)\u001b[0m\u001b[0;34m\u001b[0m\u001b[0;34m\u001b[0m\u001b[0m\n\u001b[0m\u001b[1;32m    168\u001b[0m     \u001b[0;32mif\u001b[0m \u001b[0mrcount\u001b[0m \u001b[0;34m==\u001b[0m \u001b[0;36m0\u001b[0m \u001b[0;32mif\u001b[0m \u001b[0mwhere\u001b[0m \u001b[0;32mis\u001b[0m \u001b[0;32mTrue\u001b[0m \u001b[0;32melse\u001b[0m \u001b[0mumr_any\u001b[0m\u001b[0;34m(\u001b[0m\u001b[0mrcount\u001b[0m \u001b[0;34m==\u001b[0m \u001b[0;36m0\u001b[0m\u001b[0;34m,\u001b[0m \u001b[0maxis\u001b[0m\u001b[0;34m=\u001b[0m\u001b[0;32mNone\u001b[0m\u001b[0;34m)\u001b[0m\u001b[0;34m:\u001b[0m\u001b[0;34m\u001b[0m\u001b[0;34m\u001b[0m\u001b[0m\n\u001b[1;32m    169\u001b[0m         \u001b[0mwarnings\u001b[0m\u001b[0;34m.\u001b[0m\u001b[0mwarn\u001b[0m\u001b[0;34m(\u001b[0m\u001b[0;34m\"Mean of empty slice.\"\u001b[0m\u001b[0;34m,\u001b[0m \u001b[0mRuntimeWarning\u001b[0m\u001b[0;34m,\u001b[0m \u001b[0mstacklevel\u001b[0m\u001b[0;34m=\u001b[0m\u001b[0;36m2\u001b[0m\u001b[0;34m)\u001b[0m\u001b[0;34m\u001b[0m\u001b[0;34m\u001b[0m\u001b[0m\n",
            "\u001b[0;32m/usr/local/lib/python3.7/dist-packages/numpy/core/_methods.py\u001b[0m in \u001b[0;36m_count_reduce_items\u001b[0;34m(arr, axis, keepdims, where)\u001b[0m\n\u001b[1;32m     74\u001b[0m         \u001b[0mitems\u001b[0m \u001b[0;34m=\u001b[0m \u001b[0mnt\u001b[0m\u001b[0;34m.\u001b[0m\u001b[0mintp\u001b[0m\u001b[0;34m(\u001b[0m\u001b[0;36m1\u001b[0m\u001b[0;34m)\u001b[0m\u001b[0;34m\u001b[0m\u001b[0;34m\u001b[0m\u001b[0m\n\u001b[1;32m     75\u001b[0m         \u001b[0;32mfor\u001b[0m \u001b[0max\u001b[0m \u001b[0;32min\u001b[0m \u001b[0maxis\u001b[0m\u001b[0;34m:\u001b[0m\u001b[0;34m\u001b[0m\u001b[0;34m\u001b[0m\u001b[0m\n\u001b[0;32m---> 76\u001b[0;31m             \u001b[0mitems\u001b[0m \u001b[0;34m*=\u001b[0m \u001b[0marr\u001b[0m\u001b[0;34m.\u001b[0m\u001b[0mshape\u001b[0m\u001b[0;34m[\u001b[0m\u001b[0mmu\u001b[0m\u001b[0;34m.\u001b[0m\u001b[0mnormalize_axis_index\u001b[0m\u001b[0;34m(\u001b[0m\u001b[0max\u001b[0m\u001b[0;34m,\u001b[0m \u001b[0marr\u001b[0m\u001b[0;34m.\u001b[0m\u001b[0mndim\u001b[0m\u001b[0;34m)\u001b[0m\u001b[0;34m]\u001b[0m\u001b[0;34m\u001b[0m\u001b[0;34m\u001b[0m\u001b[0m\n\u001b[0m\u001b[1;32m     77\u001b[0m     \u001b[0;32melse\u001b[0m\u001b[0;34m:\u001b[0m\u001b[0;34m\u001b[0m\u001b[0;34m\u001b[0m\u001b[0m\n\u001b[1;32m     78\u001b[0m         \u001b[0;31m# TODO: Optimize case when `where` is broadcast along a non-reduction\u001b[0m\u001b[0;34m\u001b[0m\u001b[0;34m\u001b[0m\u001b[0;34m\u001b[0m\u001b[0m\n",
            "\u001b[0;31mAxisError\u001b[0m: axis 0 is out of bounds for array of dimension 0"
          ]
        }
      ],
      "source": [
        "# Rodent craving scores (measured by number of lever presses during cue induced craving test\n",
        "#comparing this data to heoretical Gaussian distribution\n",
        "#real data here\n",
        "mu = 61.45\n",
        "sigma = 37.87\n",
        "N = 33\n",
        "\n",
        "# Get samples \n",
        "#generate random samples\n",
        "samples = np.random.normal(mu, sigma, N)\n",
        "\n",
        "# plot histogram for a given number of bins (using trapz to approximate pdf)\n",
        "#there are 5 bins determined by category of animal\n",
        "#bin 1 = extremely low pressing animals\n",
        "#bin 2 = low pressing animals\n",
        "#bin 3 = average pressing animals\n",
        "#bin 4 = high pressing animals\n",
        "#bin 5 = extremely high pressing animals\n",
        "nbins = 5\n",
        "counts, edges = np.histogram(samples, bins=nbins)\n",
        "xaxis = (edges[1:] + edges[:-1])/2\n",
        "n_pdf = np.divide(counts, np.trapz(counts, xaxis))\n",
        "plt.bar(xaxis, n_pdf)\n",
        "\n",
        "# Show theoretical pdf in red\n",
        "plt.plot(xaxis, st.norm.pdf(xaxis, mu, sigma), 'r-', linewidth=2)\n",
        "\n",
        "# labels, ets\n",
        "plt.title(f'Gaussian pdf, mu={mu:.2f}, sigma={sigma:.2f}')\n",
        "plt.xlabel('Value (lever pressing score)')\n",
        "plt.ylabel('Probability of pressing behavior')\n",
        "plt.legend(['craving behavior', 'Theoretical'])\n",
        "plt.show()\n",
        "\n",
        "# Some summary statistics\n",
        "# 1. The sample mean\n",
        "print(f'Sample mean = {np.mean(samples):.3f}')\n",
        "\n",
        "# 2. The expected value of the empirical distribution: the sum of probability x value per bin. This should be similar to the sample mean, but recognize that we lost some information from the binning (i.e., use more bins and this should get closer to the sample mean)\n",
        "print(f'Expected value of empirical distribution = {np.sum(np.prod([xaxis, np.diff(edges), n_pdf], axis=0)):.3f}')\n",
        "\n",
        "# 3. The expected value of the theoretical distribution\n",
        "print(f'Expected value of the theoretical distribution = {np.sum(np.prod([xaxis, np.diff(edges), st.norm.pdf(xaxis, mu, sigma)], axis=0)):.3f}')\n",
        "\n",
        "# Now standardize (\"z-score\") the samples by subtracting the mean and dividing by the STD\n",
        "# The harder way\n",
        "#zSamples = np.divide(samples-np.mean(samples), np.std(samples))\n",
        "zmu = np.divide(mu-np.mean(mu), np.std(mu))\n",
        "\n",
        "# The easier way\n",
        "#z2Samples = st.zscore(samples)\n",
        "z2mu = st.zscore(mu)\n",
        "\n",
        "\n",
        "# Check that they are the same\n",
        "#print(f'Number of different values = {np.count_nonzero(zSamples-z2Samples)}')\n",
        "print(f'Number of different values = {np.count_nonzero(zmu-z2mu)}')\n",
        "\n",
        "\n",
        "# Show the distribution of z-scored values\n",
        "#counts, edges = np.histogram(z2Samples, bins=nbins)\n",
        "counts, edges = np.histogram(z2mu, bins=nbins)\n",
        "xaxis = (edges[1:] + edges[:-1])/2\n",
        "plt.bar(xaxis, np.divide(counts, np.trapz(counts, xaxis)))\n",
        "\n",
        "# Show theoretical \"standard normal\" pdf in red\n",
        "plt.plot(xaxis, st.norm.pdf(xaxis), 'r-', linewidth=2)\n",
        "\n",
        "# labels, ets\n",
        "#plt.title(f'Gaussian pdf, mu={np.mean(zSamples):.2f}, sigma={np.std(zSamples):.2f}')\n",
        "plt.title(f'Gaussian pdf, mu={np.mean(zmu):.2f}, sigma={np.std(zmu):.2f}')\n",
        "plt.xlabel('Value')\n",
        "plt.ylabel('Probability')\n",
        "plt.legend(['Simulated', 'Theoretical'])\n",
        "plt.show()"
      ]
    },
    {
      "cell_type": "markdown",
      "metadata": {
        "id": "T7GcYTwonfWV"
      },
      "source": [
        "# Neuroscience Examples"
      ]
    },
    {
      "cell_type": "markdown",
      "metadata": {
        "id": "uizGJREBnlzo"
      },
      "source": [
        "## Example 1: Log-likelihood ratio from Gaussian spiking statistics\n",
        "\n",
        "Long story short: the logarithm of the likelihood ratio is cool (see [here](https://www.sciencedirect.com/science/article/pii/S0896627302009716), [here](https://www.jneurosci.org/content/23/37/11539), and [here](https://www.cell.com/neuron/fulltext/S0896-6273(15)00008-2)), and so it seems like it would be a really good thing if the brain could compute it. But how?\n",
        "\n",
        "Ok, let's back up a bit. A likelihood is just a conditional probability, often used to relate data to a particular hypothesis: *p*(*data* | *hypothesis*). If the data can take on different values, then the likelihood is a function that describes the probability of obtaining each possible value of the data, given that the hypothesis is true. In the brain, you can think of this function as describing, for example, the probability that a particular neuron will fire a certain amount of spikes in some unit of time (the data) given some state of the world, like the presence of a stimulus in the neuron's receptive field (the hypothesis). We use the term \"hypothesis\" because ultimately we want to use this quantity for inference testing and determine from the data whether or not the hypothesis is actually true (e.g., given the firing rate of the neuron, is the stimulus in its receptive field?). [This guy](https://en.wikipedia.org/wiki/Thomas_Bayes) can tell you more about how to do that, given the likelihood. But the first step is computing or estimating the likelihood, which at least in principle can be determined using something like a controlled experiment: set the hypothesis to be true (e.g., put the stimulus in the neuron's receptive field) and measure the data (e.g., the spiking response). Because the value of the data produced will typically vary from one measure to the next (i.e., it is a random variable), the procedure needs to be repeated many times to estimate the full likelihood function.\n",
        "\n",
        "The likelihood ratio is just a convenient way of comparing the likelihood associated with two different hypotheses: if the ratio is >1, then the hypothesis in the numerator has a higher likelihood, whereas if the ratio is <1, then the hypothesis in the denominator has a higher likelihood. It is therefore a natural quantity to use in the context of many [psychophysical](htthttps://www.sciencedirect.com/science/article/pii/S0306452214004369ps://) tasks that require a choice between two alternative hypotheses, given some sensory data. Also, taking the logarithm of this ratio of probabilities is a [nice thing to do](httphttps://en.wikisource.org/wiki/Popular_Science_Monthly/Volume_12/April_1878/Illustrations_of_the_Logic_of_Science_IVs://). Basically it means that you can add together the \"[weight of evidence](https://projecteuclid.org/download/pdf_1/euclid.ss/1032209661)\" provided by different, independent measurements (data), given their associated likelihood ratios.\n",
        "\n",
        "Ok, now back to our original question: does our brain actually compute (or approximate) the logarithm of the likelihood ratio (now referred to as \"logLR\"), and if so, how? It seems unlikely that we have explicit representations of two full likelihood functions, then when a given piece of data comes in we take the ratio of those two functions at that value, then compute the likelihood.\n",
        "\n",
        "It turns out that there is an easier way, and it has a lot to do with the Gaussian distribution (you had forgotten that is why we're here, right?). Consider this magical statement from [this paper](https://www.jneurosci.org/content/12/12/4745.long): \n",
        "\n",
        "\"We compiled these responses into separate 'neuron' and 'antineuron' pools, drawn respectively from the preferred direction and null direction response distributions, and used the difference between the pooled responses to determine a 'decision' for each trial.\"\n",
        "\n",
        "They're saying that they are using the responses of two groups of neurons to make a decision; in this case, it's using motion-sensitive neurons in area MT (also called [V5](https://www.ncbi.nlm.nih.gov/pmc/articles/PMC4381624/)) of a monkey to make a decision about whether a visual stimulus that the monkey is looking at is moving to the left or right. Notice the words \"response distributions.\" That got your attention, right?\n",
        "\n",
        "What they mean is, consider the distributions of responses of each of the two pools of neurons, under each of two conditions (left/right motion). So a pool of neurons that respond selectively to rightward motion will have some distribution of responses (measured as, say, number of spikes over a one-second interval) to its preferred stimulus (i.e., rightward motion) and the \"null\" stimulus (i.e., leftward motion). Same for a leftward-selective neuron, but with preferred=leftward, null=rightward.\n",
        "\n",
        "Here's a plot of real data recorded from a motion-sensitive neuron in MT of an awake monkey viewing a motion stimulus positioned in the neuron's receptive field and moving in the neuron's preferred or null direction:\n",
        "\n",
        "![](https://drive.google.com/uc?export=view&id=1qBRTElfVkHxNCa6SecrfVTAeSX4yWXeu)\n",
        "\n",
        "For the two raster plots on top, each row is a separate trial, each tick is an action potential. You can see by eye that: 1) responses are variable from trial-to-trial (i.e., the output of the neuron represents a random variable); and 2) the responses tend to be slightly larger for preferred versus null motion (that being, of course, the definition of preferred versus null motion for this neuron). If we ignore the specific temporal structure of the spikes that occur on each trial (which [may](https://www.sciencedirect.com/science/article/abs/pii/0959438894900590) or [may not](https://www.jneurosci.org/content/21/5/1676.long) be a reasonable thing to do), we can summarize their responses as a single number: the number of spikes in the one-second interval during which the motion stimulus was presented, given them units of spikes/second. The bottom plot shows the histograms of these responses for each condition.\n",
        "\n",
        "Now for the payoff. You should note that those histograms look roughly bell-shaped. Let's assume that they are, and that the neural responses in fact represent samples from a Gaussian process; i.e., the likelihood functions describing p(data=neural spike-rate response | hypothesis=motion in a particular direction) are Gaussian (we could [test this idea](https://www.ncbi.nlm.nih.gov/pmc/articles/PMC3693611/) using the real data, but here we are making a more theoretical point: what would it buy us if it were in fact true that the data were generated by a Gaussian process?). In that case, and assuming that the pref/null likelihood functions for the neuron have different mean values but the same variance, they would look like this:\n",
        "\n",
        "![](https://drive.google.com/uc?export=view&id=1kfdbSr8iHSn7YvroNUoQZ8IlOpffnd5o)\n",
        "\n",
        "and the associated \"anti-neuron\" functions would look like this:\n",
        "\n",
        "![](https://drive.google.com/uc?export=view&id=10uDp7MxLm4re41qojvgCgt1B3qTc50kn)\n",
        "\n",
        "Now, some math! We won't go through all the details here, which are in the [original paper](https://pubmed.ncbi.nlm.nih.gov/11164731/), but the idea is as follows. Assume that the task is to determine whether the monkey was viewing rightward or leftward motion on a given trial, given only the responses of these two neurons (or you can think of them as groups of neurons, the distinction does not matter for this particular analysis). How would you do it? Remember the likelihood ratio! Each neuron provides one, based on its response on that trial and the two likelihood functions. Then if we take the logarithms, and assume the neurons are operating independently (again, maybe or maybe not a great assumption, but let's go with it), the total weight of evidence supporting hypothesis 1 (e.g., motion is rightward) versus hypothesis 2 (e.g., motion is leftward) is governed by the sum of the logLRs from the two neurons:\n",
        "\n",
        "$logLR_{right\\:vs\\:left\\:for\\:neuron\\:x}+logLR_{right\\:vs\\:left\\:for\\:antineuron\\:y}=$\n",
        "\n",
        "$log\\frac{p(response_x|right)}{p(response_x|left)}+log\\frac{p(response_y|right)}{p(response_y|right)}$\n",
        "\n",
        "Now if you just plug in the equations for the Gaussian above, and rearrange things a bit, you end up with the sum of the logLRs equal to:\n",
        "\n",
        "$\\frac{\\mu_1-\\mu_2}{\\sigma^2}(response_x-response_y)$\n",
        "\n",
        "Do you notice something? The first part $\\frac{\\mu_1-\\mu_2}{\\sigma^2}$ is just a constant -- check out the paper for a discussion of what it means and how the brain might compute or approximate it. The other term is simply the difference in spike rates elicited by the stimulus from the neuron (\"x\") and the antineuron (\"y\"). This is exactly the approach described in the quote above. So it turns out that if neural responses are distributed as a Gaussian, under certain conditions if you take a simple difference in spike rates between two neurons (or pools of neurons), you automatically get exactly the kind of quantity you'd want to make statistically reliable decisions based on the outputs of those neurons!"
      ]
    },
    {
      "cell_type": "markdown",
      "metadata": {
        "id": "UqoNXyuxP-go"
      },
      "source": [
        "# Additional Resources\n",
        "\n",
        "Working with the Gaussian (normal) distribution in [Matlab](https://www.mathworks.com/help/stats/normal-distribution.html), [R](https://www.rdocumentation.org/packages/stats/versions/3.6.2/topics/Normal), and [Python](https://numpy.org/doc/stable/reference/random/generated/numpy.random.normal.html)."
      ]
    },
    {
      "cell_type": "markdown",
      "metadata": {
        "id": "tteEm2Qlgbb3"
      },
      "source": [
        "# Credits\n",
        "\n",
        "Copyright 2021 by Joshua I. Gold, University of Pennsylvania"
      ]
    }
  ],
  "metadata": {
    "colab": {
      "collapsed_sections": [],
      "provenance": [],
      "toc_visible": true
    },
    "kernelspec": {
      "display_name": "Python 3",
      "name": "python3"
    },
    "language_info": {
      "name": "python"
    }
  },
  "nbformat": 4,
  "nbformat_minor": 0
}