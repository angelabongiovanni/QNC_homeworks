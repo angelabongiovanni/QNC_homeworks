{
  "nbformat": 4,
  "nbformat_minor": 0,
  "metadata": {
    "colab": {
      "provenance": [],
      "collapsed_sections": []
    },
    "kernelspec": {
      "name": "python3",
      "display_name": "Python 3"
    },
    "language_info": {
      "name": "python"
    }
  },
  "cells": [
    {
      "cell_type": "markdown",
      "source": [
        "\n",
        "1. Plot X vs Y. Do they look related? \n",
        "\n",
        "10.4 \t7.4\n",
        "10.8 \t7.6\n",
        "11.1 \t7.9\n",
        "10.2 \t7.2\n",
        "10.3 \t7.4\n",
        "10.2 \t7.1\n",
        "10.7 \t7.4\n",
        "10.5 \t7.2\n",
        "10.8 \t7.8\n",
        "11.2 \t7.7\n",
        "10.6 \t7.8\n",
        "11.4 \t8.3"
      ],
      "metadata": {
        "id": "wy4-6WLN0kKQ"
      }
    },
    {
      "cell_type": "code",
      "source": [
        "import numpy as np\n",
        "import pandas as pd\n",
        "import matplotlib.pyplot as plt\n",
        "import statistics as st\n",
        "import scipy.stats as stats\n",
        "from scipy.stats import norm"
      ],
      "metadata": {
        "id": "Ot2prMtJ1pL_"
      },
      "execution_count": 27,
      "outputs": []
    },
    {
      "cell_type": "code",
      "source": [
        "from re import X\n",
        "#data entry\n",
        "datax = [10.4, 10.8, 11.1, 10.2, 10.3, 10.2, 10.7, 10.5, 10.8, 11.2, 10.6, 11.4,]\n",
        "datay = [7.4, 7.6, 7.9, 7.2, 7.4, 7.1, 7.4, 7.2, 7.8, 7.7, 7.8, 8.3]\n",
        "plt.scatter(datax, datay)\n",
        "plt.show()\n",
        "\n",
        "plt.title('correlation between wing and tail lengths')\n",
        "plt.xlabel('wing length (cm)')\n",
        "plt.ylabel('tail length (cm)')\n",
        "print('yes they look related')\n"
      ],
      "metadata": {
        "colab": {
          "base_uri": "https://localhost:8080/",
          "height": 561
        },
        "id": "FrLF9q463jIO",
        "outputId": "f77ec4c7-e2cb-45c0-a31a-e0bf721cb49e"
      },
      "execution_count": 2,
      "outputs": [
        {
          "output_type": "display_data",
          "data": {
            "text/plain": [
              "<Figure size 432x288 with 1 Axes>"
            ],
            "image/png": "[encoded data removed]"
          },
          "metadata": {
            "needs_background": "light"
          }
        },
        {
          "output_type": "stream",
          "name": "stdout",
          "text": [
            "yes they look related\n"
          ]
        },
        {
          "output_type": "display_data",
          "data": {
            "text/plain": [
              "<Figure size 432x288 with 1 Axes>"
            ],
            "image/png": "[encoded data removed]"
          },
          "metadata": {
            "needs_background": "light"
          }
        }
      ]
    },
    {
      "cell_type": "markdown",
      "source": [
        "Calculate rx,y and ry,x\n",
        "first using the equations above and then using either the Python numpy funciton corrcoef or Matlab's built-in corrcoef. Did you get the same answers?"
      ],
      "metadata": {
        "id": "lpWqPHB-8vfq"
      }
    },
    {
      "cell_type": "code",
      "source": [
        "from numpy.core.fromnumeric import mean\n",
        "#data entry\n",
        "datax = [10.4, 10.8, 11.1, 10.2, 10.3, 10.2, 10.7, 10.5, 10.8, 11.2, 10.6, 11.4,]\n",
        "datay = [7.4, 7.6, 7.9, 7.2, 7.4, 7.1, 7.4, 7.2, 7.8, 7.7, 7.8, 8.3]\n",
        "\n",
        "#using equations for rxy\n",
        "\n",
        "xmean = mean(datax)\n",
        "ymean = mean(datay)\n",
        "\n",
        "sumx = sum(datax)\n",
        "sumy = sum(datay)\n",
        "\n",
        "numeratorxy = sum((datax-xmean)*(datay-ymean))\n",
        "\n",
        "denominatorxy = np.sqrt(sum((datax-xmean)**2) * sum((datay-ymean)**2))\n",
        "\n",
        "rxy = numeratorxy / denominatorxy\n",
        "print(rxy)\n",
        "\n",
        "\n",
        "#using python numpy function corrcoef\n",
        "\n",
        "rxy2 = np.corrcoef([datax],[datay])\n",
        "print(rxy2)\n",
        "\n",
        "print(\"yes the answers are the same\")\n",
        "\n",
        "#using equations for ryx\n",
        "numeratoryx = sum((datay-ymean)*(datax-xmean))\n",
        "\n",
        "denominatoryx = np.sqrt(sum((datay-ymean)**2) * sum((datax-xmean)**2))\n",
        "\n",
        "ryx = numeratoryx / denominatoryx\n",
        "print(ryx)\n",
        "\n",
        "\n",
        "#using python numpy function corrcoef\n",
        "\n",
        "ryx2 = np.corrcoef([datay],[datax])\n",
        "print(ryx2)\n",
        "\n",
        "print(\"yes the answers are the same\")"
      ],
      "metadata": {
        "colab": {
          "base_uri": "https://localhost:8080/"
        },
        "id": "WYBIUkPJ8qBd",
        "outputId": "895b05b3-7069-4b72-bff9-d846885f9c4c"
      },
      "execution_count": 10,
      "outputs": [
        {
          "output_type": "stream",
          "name": "stdout",
          "text": [
            "0.8703545613058226\n",
            "[[1.         0.87035456]\n",
            " [0.87035456 1.        ]]\n",
            "yes the answers are the same\n",
            "0.8703545613058226\n",
            "[[1.         0.87035456]\n",
            " [0.87035456 1.        ]]\n",
            "yes the answers are the same\n"
          ]
        }
      ]
    },
    {
      "cell_type": "code",
      "source": [
        "from matplotlib.scale import NaturalLogTransform\n",
        "from scipy.stats.morestats import sqrt\n",
        "#calculate standard error rxy\n",
        "\n",
        "#data entry\n",
        "\n",
        "rxy = 0.8703545613058226\n",
        "\n",
        "#standard error rxy\n",
        "sr = sqrt(1-(rxy*rxy))/10\n",
        "print(sr)\n",
        "\n",
        "#find confidence interval\n",
        "z = 0.5*np.log((1+rxy)/(1-rxy))\n",
        "print(z)\n",
        "\n",
        "#find sz\n",
        "sz = sqrt(1/9)\n",
        "print(sz)\n",
        "\n",
        "z_criterion = 2.228\n",
        "\n",
        "confidence_interval_lower = z - (z_criterion) * sz\n",
        "confidence_interval_upper = z + (z_criterion) * sz\n",
        "print(confidence_interval_lower, confidence_interval_upper)\n",
        "\n",
        "#calculate p value\n",
        "tnumerator = rxy * sqrt(10)\n",
        "tdenominator = (sqrt(1-(rxy*rxy)))\n",
        "t = tnumerator/tdenominator\n",
        "print(t)\n",
        "\n",
        "#used online calculator to find p value from t score\n",
        "p_value = 0.000116\n",
        "\n",
        "outcome_is_significant = p_value<.05\n",
        "print(outcome_is_significant)"
      ],
      "metadata": {
        "colab": {
          "base_uri": "https://localhost:8080/"
        },
        "id": "9Q-T9HMk5fKI",
        "outputId": "d91da0d8-04ca-4fe9-dfbc-ab6702047aaa"
      },
      "execution_count": 44,
      "outputs": [
        {
          "output_type": "stream",
          "name": "stdout",
          "text": [
            "0.04924255655570182\n",
            "1.3345399835871337\n",
            "0.3333333333333333\n",
            "0.591873316920467 2.0772066502538005\n",
            "5.589276792584326\n",
            "True\n"
          ]
        }
      ]
    },
    {
      "cell_type": "code",
      "source": [
        "#r value = 0.75, yale's study\n",
        "\n",
        "#data entry\n",
        "r_yale = 0.75\n",
        "\n",
        "#standard error rxy\n",
        "sr = sqrt(1-(r_yale*r_yale))/10\n",
        "print(sr)\n",
        "\n",
        "#find confidence interval\n",
        "z = 0.5*np.log((1+r_yale)/(1-r_yale))\n",
        "print(z)\n",
        "\n",
        "#find sz\n",
        "sz = sqrt(1/9)\n",
        "print(sz)\n",
        "\n",
        "z_criterion = 2.228\n",
        "\n",
        "confidence_interval_lower = z - (z_criterion) * sz\n",
        "confidence_interval_upper = z + (z_criterion) * sz\n",
        "print(confidence_interval_lower, confidence_interval_upper)\n",
        "\n",
        "#calculate p value\n",
        "tnumerator = r_yale * sqrt(10)\n",
        "tdenominator = (sqrt(1-(r_yale*r_yale)))\n",
        "t = tnumerator/tdenominator\n",
        "print(t)\n",
        "\n",
        "#used online calculator to find p value from t score\n",
        "p_value = 0.002483\n",
        "\n",
        "outcome_is_significant = p_value<.05\n",
        "print(outcome_is_significant)"
      ],
      "metadata": {
        "colab": {
          "base_uri": "https://localhost:8080/"
        },
        "id": "r5t-hBhiQI6k",
        "outputId": "5d8f6099-026b-411d-9555-92d4982758bf"
      },
      "execution_count": 46,
      "outputs": [
        {
          "output_type": "stream",
          "name": "stdout",
          "text": [
            "0.06614378277661477\n",
            "0.9729550745276566\n",
            "0.3333333333333333\n",
            "0.23028840786098992 1.7156217411943233\n",
            "3.585685828003181\n",
            "True\n"
          ]
        }
      ]
    },
    {
      "cell_type": "markdown",
      "source": [
        "I am still unsure of how to do power analysis for sample size, will be scheduling time to meet with Diego to go over this though!"
      ],
      "metadata": {
        "id": "4Gz86vTqR3R2"
      }
    }
  ]
}