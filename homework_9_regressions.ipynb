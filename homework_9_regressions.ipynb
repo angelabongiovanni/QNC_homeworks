{
  "nbformat": 4,
  "nbformat_minor": 0,
  "metadata": {
    "colab": {
      "provenance": [],
      "collapsed_sections": []
    },
    "kernelspec": {
      "name": "python3",
      "display_name": "Python 3"
    },
    "language_info": {
      "name": "python"
    }
  },
  "cells": [
    {
      "cell_type": "markdown",
      "source": [
        "Using the following data set to investigate the relationship between Age and Wing Length, and use the data to generate answers to the prompts below:"
      ],
      "metadata": {
        "id": "dE4Jr5Pi5-ES"
      }
    },
    {
      "cell_type": "code",
      "source": [
        "import numpy as np\n",
        "import pandas as pd\n",
        "import matplotlib.pyplot as plt\n",
        "import statistics as st\n",
        "import scipy.stats as stats\n",
        "from scipy.stats import norm\n",
        "from sklearn.metrics import r2_score"
      ],
      "metadata": {
        "id": "yZzDsXz86cJQ"
      },
      "execution_count": null,
      "outputs": []
    },
    {
      "cell_type": "code",
      "execution_count": null,
      "metadata": {
        "colab": {
          "base_uri": "https://localhost:8080/",
          "height": 448
        },
        "id": "6O5_aEu951GF",
        "outputId": "f68be4bc-484c-4688-c1f6-e64479f9a641"
      },
      "outputs": [
        {
          "output_type": "stream",
          "name": "stdout",
          "text": [
            "yes they look related\n",
            "0.2646841206602162 0.8296243597040408\n"
          ]
        },
        {
          "output_type": "display_data",
          "data": {
            "text/plain": [
              "<Figure size 432x288 with 1 Axes>"
            ],
            "image/png": "[encoded data removed]"
          },
          "metadata": {
            "needs_background": "light"
          }
        },
        {
          "output_type": "stream",
          "name": "stdout",
          "text": [
            "yes, reject null\n",
            "0.2646841206602163\n",
            "0.8296243597040407\n",
            "0.9815203776816279\n",
            "3.0097431724571258e-09\n",
            "0.015558869602001984\n",
            "0.9633822518042855\n"
          ]
        }
      ],
      "source": [
        "from scipy.sparse.linalg.isolve.lsqr import sqrt\n",
        "#Step 1: Plot the relationship between Age and Wing Length\n",
        "\n",
        "from re import X\n",
        "#data entry\n",
        "x_age = np.array([3,4,5,6,7,8,9,11,12,14,15,16,17])\n",
        "y_wing_length = np.array([1.4, 1.5, 2.2, 2.4, 3.1, 3.2, 3.2, 3.9, 4.1, 4.7, 4.5, 5.2, 5.0])\n",
        "plt.scatter(x_age, y_wing_length)\n",
        "#plt.show()\n",
        "\n",
        "plt.title('correlation between age and wing lengths')\n",
        "plt.xlabel('age (years)')\n",
        "plt.ylabel('wing length (cm)')\n",
        "print('yes they look related')\n",
        "\n",
        "#obtain slope and intercept of linear regression line\n",
        "m, b = np.polyfit(x_age, y_wing_length, 1)\n",
        "print(m, b)\n",
        "\n",
        "#add regression line\n",
        "plt.plot(x_age, m*x_age+b)\n",
        "plt.show()\n",
        "\n",
        "print('yes, reject null')\n",
        "\n",
        "from sklearn.metrics import r2_score\n",
        "\n",
        "#calculate R\n",
        "slope, intercept, rvalue, pvalue, std_error = stats.linregress(x_age, y_wing_length)\n",
        "print(slope)\n",
        "print(intercept)\n",
        "print(rvalue)\n",
        "print(pvalue)\n",
        "print(std_error)\n",
        "\n",
        "r2_value = rvalue**2\n",
        "print(r2_value)\n"
      ]
    },
    {
      "cell_type": "code",
      "source": [
        "#calculate confidence intervals on slope of regression\n",
        "#95% C.I. for β1: b1 ± t1-α/2, n-2 * se(b1)\n",
        "\n",
        "slope = 0.2646841206602162\n",
        "t_score_chart_value = 2.1604\n",
        "standard_error = .01720762\n",
        "\n",
        "confidence_interval_lower_bound = slope - t_score_chart_value * standard_error\n",
        "confidence_interval_upper_bound = slope + t_score_chart_value * standard_error\n",
        "print('confidence interval')\n",
        "print(confidence_interval_lower_bound, confidence_interval_upper_bound)\n"
      ],
      "metadata": {
        "colab": {
          "base_uri": "https://localhost:8080/"
        },
        "id": "KNE4mH4CCzL6",
        "outputId": "448c1473-761a-4d47-9cc4-0052e1f1953a"
      },
      "execution_count": null,
      "outputs": [
        {
          "output_type": "stream",
          "name": "stdout",
          "text": [
            "confidence interval\n",
            "0.22750877841221617 0.3018594629082162\n"
          ]
        }
      ]
    },
    {
      "cell_type": "code",
      "source": [
        "from scipy.stats.stats import pearsonr\n",
        "#calculate coefficient of determination\n",
        "\n",
        "\n",
        "#raw data\n",
        "x_age = [3,4,5,6,7,8,9,11,12,14,15,16,17]\n",
        "y_wing_length = [1.4, 1.5, 2.2, 2.4, 3.1, 3.2, 3.2, 3.9, 4.1, 4.7, 4.5, 5.2, 5.0]\n",
        "\n",
        "\n",
        "\n",
        "r = pearsonr(x_age, y_wing_length)\n",
        "print('pearsons r value is {}'.format( r[0]))\n",
        "\n"
      ],
      "metadata": {
        "colab": {
          "base_uri": "https://localhost:8080/"
        },
        "id": "7nrvMb3tdJVG",
        "outputId": "945714c1-8d24-4d72-bc08-0a1d0012b573"
      },
      "execution_count": null,
      "outputs": [
        {
          "output_type": "stream",
          "name": "stdout",
          "text": [
            "pearsons r value is 0.981520377681628\n"
          ]
        }
      ]
    },
    {
      "cell_type": "code",
      "source": [
        "noisy_wing_length = y_wing_length + np.random.normal(0, 1, len(y_wing_length))\n",
        "\n",
        "nslope, nintercept, nrvalue, npvalue, nstd_error = stats.linregress(x_age, noisy_wing_length)\n",
        "print(nslope)\n",
        "print(nintercept)\n",
        "print(nrvalue)\n",
        "print(npvalue)\n",
        "print(nstd_error)\n",
        "\n",
        "nr2_value = nrvalue**2\n",
        "print(nr2_value)"
      ],
      "metadata": {
        "colab": {
          "base_uri": "https://localhost:8080/"
        },
        "id": "CGJlr9frnJMz",
        "outputId": "8774569b-2166-4d85-98b4-9902e97524a3"
      },
      "execution_count": null,
      "outputs": [
        {
          "output_type": "stream",
          "name": "stdout",
          "text": [
            "0.24928460576198036\n",
            "1.3112748296398768\n",
            "0.7253503603876847\n",
            "0.005016442760337645\n",
            "0.07133118724179194\n",
            "0.5261331453145441\n"
          ]
        }
      ]
    }
  ]
}