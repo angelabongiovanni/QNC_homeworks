{
  "nbformat": 4,
  "nbformat_minor": 0,
  "metadata": {
    "colab": {
      "provenance": [],
      "collapsed_sections": []
    },
    "kernelspec": {
      "name": "python3",
      "display_name": "Python 3"
    },
    "language_info": {
      "name": "python"
    }
  },
  "cells": [
    {
      "cell_type": "markdown",
      "source": [
        "Homework 4: Compute confidence/credible intervals based on the four methods above for simulated data sampled from a population that is Gaussian distributed with mean μ=10 standard deviation σ\n",
        "=2, for n=5, 10, 20, 40, 80, 160, 1000 at a 95% confidence level\n",
        "\n",
        "Method 1: simple approach, large n or known std dev\n",
        "Method 2: simple approach, small n or unknown population std dev\n",
        "Method 3: bootstrapped confidence interval\n",
        "Method 4: Bayesian credible intervals"
      ],
      "metadata": {
        "id": "oCkHwOK1OoxN"
      }
    },
    {
      "cell_type": "markdown",
      "source": [
        "Method 1: steps\n",
        "1) calculate sample mean (X̄)\n",
        "X̄ = Σ (X)/n \n",
        "(sum of all data divided by number of data points, standard mean equation)\n",
        "\n",
        "2)identify z-score that corresponds to 95% confidence interval\n",
        "here the appropriate z score is based off one half of 1-confidence level\n",
        "0.5*(1-0.95) = 0.025 \n",
        "*this is a known value you can google or find on an online calculator. there is a way to do it in python\n",
        "\n",
        "3) find SEM using SEM equation or python command\n",
        "\n",
        "4) then find the interval by using the confidence interval equation\n",
        "[X̄-SEM * 1.96, X̄+SEM *1.96] this range is then the confidence interval"
      ],
      "metadata": {
        "id": "5kS_NBQWYh6y"
      }
    },
    {
      "cell_type": "code",
      "source": [
        "import matplotlib.pyplot as plt\n",
        "import numpy as np\n",
        "import scipy.stats as st\n",
        "import math\n",
        "import random"
      ],
      "metadata": {
        "id": "ixL6_gjlyQ7e"
      },
      "execution_count": null,
      "outputs": []
    },
    {
      "cell_type": "code",
      "execution_count": 108,
      "metadata": {
        "id": "bEhuTVA_OiQs",
        "colab": {
          "base_uri": "https://localhost:8080/"
        },
        "outputId": "d73fd01f-e5f9-4ccb-aa13-c1293dd0ba43"
      },
      "outputs": [
        {
          "output_type": "stream",
          "name": "stdout",
          "text": [
            "for a sample with mean 11.86898663037384 of size 5 using method X we calculated a ci of 10.492895137204453 , 13.245078123543227\n"
          ]
        }
      ],
      "source": [
        "#setup: generate random samples based on given paraments\n",
        "\n",
        "mu = 10\n",
        "sigma = 2\n",
        "N = 5\n",
        "\n",
        "samples = np.random.normal(mu, sigma, N)\n",
        "\n",
        "#step 1: calculate the sample mean X̄ = Σ (X)/n\n",
        "\n",
        "sample_mean = ((sum(samples))/N)\n",
        "#print(sample_mean)\n",
        "\n",
        "#step 2: identify z-score that corresponds to 95% confidence interval\n",
        "\n",
        "desired_area = 0.5*(1-0.95)\n",
        "#print(desired_area)\n",
        "\n",
        "zscore_from_calculator = 1.96\n",
        "#print(zscore_from_calculator)\n",
        "\n",
        "#step 3: find SEM\n",
        "SEM = st.sem(samples)\n",
        "#print(SEM)\n",
        "\n",
        "#step 4: find confidence interval with equation [X̄-SEM * 1.96, X̄+SEM *1.96]\n",
        "confidence_interval_95_lower = sample_mean - SEM * zscore_from_calculator\n",
        "#print(confidence_interval_95_lower)\n",
        "\n",
        "confidence_interval_95_upper = sample_mean + SEM * zscore_from_calculator\n",
        "#print(confidence_interval_95_upper)\n",
        "\n",
        "#print(confidence_interval_95_lower, confidence_interval_95_upper)\n",
        "\n",
        "print(f\"for a sample with mean {sample_mean} of size {N} using method X we calculated a ci of {confidence_interval_95_lower} , {confidence_interval_95_upper}\")\n"
      ]
    },
    {
      "cell_type": "markdown",
      "source": [
        "Method 2: \n",
        "steps 1) calculate sample mean \n",
        "(X̄) X̄ = Σ (X)/n (sum of all data divided by number of data points, standard mean equation)\n",
        "\n",
        "2)identify t-score that corresponds to 95% confidence interval here the appropriate t score is based off one half of 1-confidence level \n",
        "0.5*(1-0.95) = 0.025 \n",
        "*this is a known value you can google or find on an online t distribution calculator. there is probably a way to do it in python\n",
        "\n",
        "3) then find the SEM using the equation or python command\n",
        "\n",
        "4)then find the interval by using the confidence interval equation [X̄-SEM * 1.96, X̄+SEM *1.96] this range is then the confidence interval"
      ],
      "metadata": {
        "id": "6iBgwknNZ_ir"
      }
    },
    {
      "cell_type": "code",
      "source": [
        "#setup: generate random samples based on given paraments\n",
        "\n",
        "mu = 10\n",
        "sigma = 2\n",
        "N = 5\n",
        "df = N-1\n",
        "\n",
        "samples = np.random.normal(mu, sigma, N)\n",
        "\n",
        "#step 1: calculate the sample mean X̄ = Σ (X)/n\n",
        "\n",
        "sample_mean = ((sum(samples))/N)\n",
        "#print(sample_mean)\n",
        "\n",
        "#step 2: calculate t-score\n",
        "\n",
        "desired_area_2 = 0.5*(1-0.95)\n",
        "#print(desired_area_2)\n",
        "\n",
        "t_score = (sample_mean - mu) / (sigma / math.sqrt(N))\n",
        "#print(t_score)\n",
        "\n",
        "t_score_online_chart = 2.77\n",
        "#print(t_score_online_chart)\n",
        "\n",
        "#step 3: find the SEM\n",
        "\n",
        "#step 3: find SEM\n",
        "SEM = st.sem(samples)\n",
        "#print(SEM)\n",
        "\n",
        "#step 4: find confidence interval with equation [X̄-SEM * 1.96, X̄+SEM *1.96]\n",
        "confidence_interval_95_lower_2 = sample_mean - SEM * t_score_online_chart\n",
        "#print(confidence_interval_95_lower_2)\n",
        "\n",
        "confidence_interval_95_upper_2 = sample_mean + SEM * t_score_online_chart\n",
        "#print(confidence_interval_95_upper_2)\n",
        "\n",
        "#print(confidence_interval_95_lower_2, confidence_interval_95_upper_2)\n",
        "\n",
        "print(f'for a sample with mean {sample_mean}, and size of {N} using method 2 we calculated a ci of {confidence_interval_95_lower_2} , {confidence_interval_95_upper_2}')\n",
        "\n",
        "                    "
      ],
      "metadata": {
        "colab": {
          "base_uri": "https://localhost:8080/"
        },
        "id": "LRK6YDGQ6Isj",
        "outputId": "55f0c018-e6b3-4ed7-e511-b4679c5bb4f9"
      },
      "execution_count": 104,
      "outputs": [
        {
          "output_type": "stream",
          "name": "stdout",
          "text": [
            "for a sample with mean 10.630544471406688, and size of 5 using method 2 we calculated a ci of 8.78918355074926 , 12.471905392064116\n"
          ]
        }
      ]
    },
    {
      "cell_type": "markdown",
      "source": [
        "Method 3: bootstrapping\n",
        "step 1: have data (x1, x2,...xn) from a distribution (F)\n",
        "step 2: compute a parameter (confidence interval) of that distribution\n",
        "step 3: compute empirical distribution of data (F*)\n",
        "step 4: resample data (x1*, x2*, x3*...xn*)\n",
        "step 5: recompute parameter (confidence interval) with resample data"
      ],
      "metadata": {
        "id": "erwiOZ6HFywa"
      }
    },
    {
      "cell_type": "code",
      "source": [
        "from scipy.ndimage import measurements\n",
        "from scipy.stats.morestats import Std_dev\n",
        "from numpy.ma.core import mean\n",
        "\n",
        "\n",
        "mu = 10\n",
        "sigma = 2\n",
        "N = 5\n",
        "\n",
        "samples = np.random.normal(mu, sigma, N)\n",
        "\n",
        "means = []\n",
        "\n",
        "for _ in range(100):\n",
        "  resampled_distribution = np.random.choice (samples, size = 5, replace = True)\n",
        "  means.append(mean(resampled_distribution))\n",
        "  #print(resampled_distribution)\n",
        "  \n",
        "Confidence_interval_lower_bound = np.percentile(means, 2.5)\n",
        "Confidence_interval_upper_bound = np.percentile(means, 97.5)\n",
        "\n",
        "print(f'for a sample with a bootstrapped mean of {mu}, the calculated confidence interval = {Confidence_interval_lower_bound}, {Confidence_interval_upper_bound}')\n",
        "\n",
        "\n",
        "\n",
        "\n",
        "\n",
        "\n",
        "\n",
        "\n",
        "\n"
      ],
      "metadata": {
        "colab": {
          "base_uri": "https://localhost:8080/"
        },
        "id": "VSA_l1hrGv8Q",
        "outputId": "d7651509-d00b-4b7f-ed0a-bc89328a2968"
      },
      "execution_count": 107,
      "outputs": [
        {
          "output_type": "stream",
          "name": "stdout",
          "text": [
            "for a sample with a bootstrapped mean of 10, the calculated confidence interval = 10.283769825178762, 12.017410061924267\n"
          ]
        }
      ]
    },
    {
      "cell_type": "markdown",
      "source": [
        "method 4: showing the bayesian approach is similar to the frequentist approach mathmatically"
      ],
      "metadata": {
        "id": "5yscSw_VkLTl"
      }
    },
    {
      "cell_type": "code",
      "source": [
        "#setup: generate random samples based on given paraments\n",
        "\n",
        "mu = 10\n",
        "sigma = 2\n",
        "N = 5\n",
        "\n",
        "samples = np.random.normal(mu, sigma, N)\n",
        "\n",
        "#step 1: calculate the sample mean X̄ = Σ (X)/n\n",
        "\n",
        "sample_mean = ((sum(samples))/N)\n",
        "#print(sample_mean)\n",
        "\n",
        "#step 2: identify z-score that corresponds to 95% confidence interval\n",
        "\n",
        "desired_area = 0.5*(1-0.95)\n",
        "#print(desired_area)\n",
        "\n",
        "zscore_from_calculator = 1.96\n",
        "#print(zscore_from_calculator)\n",
        "\n",
        "#step 3: find SEM\n",
        "SEM = st.sem(samples)\n",
        "#print(SEM)\n",
        "\n",
        "#step 4: find confidence interval with equation [X̄-SEM * 1.96, X̄+SEM *1.96]\n",
        "confidence_interval_95_lower = sample_mean - SEM * zscore_from_calculator\n",
        "#print(confidence_interval_95_lower)\n",
        "\n",
        "confidence_interval_95_upper = sample_mean + SEM * zscore_from_calculator\n",
        "#print(confidence_interval_95_upper)\n",
        "\n",
        "#print(confidence_interval_95_lower, confidence_interval_95_upper)\n",
        "\n",
        "print(f'for a sample with mean {sample_mean} of size {N} using method X we calculated a ci of {confidence_interval_95_lower} , {confidence_interval_95_upper}')\n",
        "print('because bayesian and frequentist approaches yield similar results, code from method 1 can be recycled for method 4')"
      ],
      "metadata": {
        "colab": {
          "base_uri": "https://localhost:8080/"
        },
        "id": "LCJNKe1ZkQd3",
        "outputId": "0c7bf57b-daba-4a8d-eaf6-c5b6dd7e70d0"
      },
      "execution_count": 111,
      "outputs": [
        {
          "output_type": "stream",
          "name": "stdout",
          "text": [
            "for a sample with mean 10.531393020533088 of size 5 using method X we calculated a ci of 8.109364835294265 , 12.95342120577191\n",
            "because bayesian and frequentist approaches yield similar results, code from method 1 can be recycled for method 4\n"
          ]
        }
      ]
    }
  ]
}