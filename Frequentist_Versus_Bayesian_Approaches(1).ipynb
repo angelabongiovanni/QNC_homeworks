{
  "cells": [
    {
      "cell_type": "markdown",
      "source": [
        "Angela Bongiovanni"
      ],
      "metadata": {
        "id": "EmiLr1qg80yP"
      }
    },
    {
      "cell_type": "markdown",
      "metadata": {
        "id": "zFHJmbVVoJFg"
      },
      "source": [
        "[![Open In Colab](https://colab.research.google.com/assets/colab-badge.svg)](https://colab.research.google.com/github/PennNGG/Quantitative-Neuroscience/blob/master/Concepts/Python/Frequentist%20Versus%20Bayesian%20Approaches.ipynb)"
      ]
    },
    {
      "cell_type": "markdown",
      "metadata": {
        "id": "pKIiY6p3GRFq"
      },
      "source": [
        "# Definition"
      ]
    },
    {
      "cell_type": "markdown",
      "metadata": {
        "id": "x7VmLUr5GTNw"
      },
      "source": [
        "Debates between frequentists and Bayesians have carried on for years, touching on issues that are in some cases very [practical](https://www.ejwagenmakers.com/2008/BayesFreqBook.pdf) and other cases much more [philosophical](http://www.stat.columbia.edu/~gelman/research/published/philosophy.pdf). The goal here is not to dive deeply into all of those debates but rather to introduce you to the basic issues, because they are at the heart of what we can and cannot do with statistics.\n",
        "\n",
        "More specifically, the two camps differ fundamentally on how to interpret randomness, which profoundly affects the kinds of inferences that can be drawn on the basis of noisy data:\n",
        "\n",
        "A **frequentist** thinks of probability only in terms of the frequency of many repeated events that include some element of randomness. **To a frequentist, assigning a probability to a singular event that can either happen or not happen, particularly one that is not directly or yet measured,  is nonsensical** (\"There is no place in our system for speculations concerning the probability that the sun will rise tomorrow\" -- William Feller). As a consequence of these ideas, a frequentist operates on the conditional distribution of the data, assuming that a hypothesis is true. That is, one makes a series of repeated measurements (the data) under fixed conditions, obtaining what is essentially a histogram. Inferences about the nature of the process that generated the data then allow only for this definition of randomness or uncertainty: the obtained variability in the data. Questions of the form \"What is the probability that process x generated my data?\" are undefined in this framework, because a probability cannot be assigned to an unknown and unseeable process (or \"hypothesis\"), only to repeated measures. Instead, the best you can do is simply assume that a particular process was the one that generated your data, and then ask \"What is the probability that I would have obtained my data, assuming that x was the true process?\" This question is the basis for null hypotheses (typically defined in terms of the parameters of the probability distribution that you would expect the data to be drawn from under a particular set of assumptions) and p-values: computing the likelihood p(data | null hypothesis).\n",
        "\n",
        "Benefits of this approach are that frequentist-based statistics are typically relatively easy to compute, they require few assumptions, and they tend to promote good experimental design (because you need to very carefully control the conditions under which the data are collected).\n",
        "\n",
        "Drawbacks include the fact that definitions of probability in this framework are often highly counter-intuitive to how most of us think, resulting in results that can be very difficult to interpret. A good example is the concept of a \"confidence interval\" in frequentist statistics, which is described nicely [here](https://jfiksel.github.io/2018-01-08-explaining-confidence-intervals/).\n",
        "\n",
        "A **Bayesian** thinks of probability as the degree of belief in a proposition (or hypothesis). In this framework, data represent evidence that can support or oppose such a belief, which is represented as a  probability distribution. Thus, unlike from the frequentist perspective, **from the Bayesian perspective it is perfectly natural to describe the belief (or probability) that particular values of particular parameters of a particular probability distribution (together encompassing a \"hypothesis\" about the data) are true**.\n",
        "\n",
        "These ideas are derived directly from the definition of joint probability (see [Independence and Lack Thereof](https://colab.research.google.com/drive/1YFwKKkWUjtV6_Nx2upNpFYHJNeXIeQB6) for a related discussion):\n",
        "\n",
        "$P(A\\cap B)=p(A|B)\\times p(B) = p(B|A)\\times p(A)$\n",
        "\n",
        "where $P(A\\cap B)$ is read as \"the probability that A and B are true\" and P(A | B) is read as \"the probability that A is true, given that B is true\" or just \"the probability of A given B.\"\n",
        "\n",
        "If we call A the Hypothesis and B the Data, and rearrange, we get Bayes' Rule:\n",
        "\n",
        "$P(Hypothesis|Data)=\\frac{P(Data|hypothesis)\\times P(Hypothesis)}{P(Data)}$\n",
        "\n",
        "Where *P*(*Hypothesis* | *Data*) is called the posterior probability (or just posterior), *P*(*Data* | *Hypothesis*) is the likelihood, *P*(*Hypothesis*) is the prior, and *P*(*Data*) is the marginal probability of the data.\n",
        "\n",
        "Benefits of the Bayesian approach are that it tends to get at the intuitive concepts that one is addressing (e.g., the probability that a hypothesis is true, given the data), and it does so in a rigorous manner.\n",
        "\n",
        "Drawbacks include questions about [how to identify an appropriate prior](https://stats.stackexchange.com/questions/78606/how-to-choose-prior-in-bayesian-parameter-estimation).\n"
      ]
    },
    {
      "cell_type": "markdown",
      "metadata": {
        "id": "isP38xJSbJuA"
      },
      "source": [
        "# Tutorial and Exercises"
      ]
    },
    {
      "cell_type": "markdown",
      "metadata": {
        "id": "-Eh2Pu8glb6C"
      },
      "source": [
        "To use this tutorial, read the text and then try to generate code to solve the exercises. Answers will be posted to GitHub after the class they are due.\n",
        "\n",
        "The learning objective is to gain insights into thinking about inference from a \"Frequentist\" versus a \"Bayesian\" perspective. In brief, because a Frequentist does not consider the probability of an event or state of the world or hypothesis, only their frequency of occurrance, it is not possible to ask questions of the form \"what is the probabilty that hypothesis x is true?\" Instead, one can only consider questions of the form, \"what is the probabilty that I would have obtained my data, given that hypothesis x is true?\" In contrast, Bayesians consider the probabilities of such things (often called the strength of belief), but doing so can require making assumptions that can be difficult to prove.\n",
        "\n",
        "Let's start with a simple example, taken from:\n",
        "\n",
        "https://en.wikipedia.org/wiki/Base_rate_fallacy#Example_1:_HIV\n",
        "\n",
        "\"Imagine running an HIV test on A SAMPLE of 1000 persons ...\"\n",
        "\n",
        "\"The test has a false positive rate of 5% (0.05)...\" i.e., the probability that someone who takes the test gets a POSITIVE result despite the fact that the person does NOT have HIV\n",
        "\n",
        "\"...and no false negative rate.\" i.e., The probability that someone who takes the test gets a NEGATIVE result despite the fact that the person DOES have HIV.\n",
        "\n",
        "Answers to the exercises below will be found [here](https://github.com/PennNGG/Quantitative-Neuroscience/tree/master/Answers%20to%20Exercises/Python) after the due date."
      ]
    },
    {
      "cell_type": "markdown",
      "metadata": {
        "id": "J3hkaaTFlukb"
      },
      "source": [
        "### Exercise #1: If someone gets a positive test, is it \"statistically significant\" at the p<0.05 level? Why or why not?"
      ]
    },
    {
      "cell_type": "markdown",
      "source": [
        "no, the false positive rate is 5%, which is equal to .05, not less than this threshold."
      ],
      "metadata": {
        "id": "XsOqiehioQDr"
      }
    },
    {
      "cell_type": "markdown",
      "metadata": {
        "id": "1ItR0WXCmBgL"
      },
      "source": [
        "### Exercise #2: What is the probability that if someone gets a positive test, that person is infected?"
      ]
    },
    {
      "cell_type": "code",
      "source": [
        "import scipy.stats as st\n",
        "import numpy as np\n",
        "\n",
        "#importing science and number packages\n",
        "\n",
        "N=1000\n",
        "false_positive_rate=0.05\n",
        "false_negative_rate=0\n",
        "proportion_infected=0.5\n",
        "\n",
        "#assuming 50% infection out of whole sample\n",
        "\n",
        "infected = st.binom.rvs(1, proportion_infected, size = N)\n",
        "#this will make a numpy array\n",
        "#infected are 1s, 0s are uninfected\n",
        "#this function is flipping a coin 1000 times, if you land on 1, it's infected. this is how we are generating our sample\n",
        "\n",
        "number_infected=infected.sum()\n",
        "#command to count number of infected people\n",
        "#next command will need to determine how many people got a positive. \n",
        "\n",
        "is_positive=np.copy(infected)\n",
        "# because false negative rate is 0, this is true\n",
        "\n",
        "is_positive[infected==0] = st.binom.rvs(1, false_positive_rate, size = N-number_infected)\n",
        "#taking entire is_positive array, which comes from infected binomial distribution, out of that array, 0s represent uninfected currently at 50%, take those 0s out and replace with a new distribution where 5% of the new values are accounting for false positive, so it will be mostly 0s but now with some more 1.\n",
        "\n",
        "probability_is_infected_given_is_positive = (np.logical_and(infected==1, is_positive==1).sum())/is_positive.sum()\n",
        "print(probability_is_infected_given_is_positive)"
      ],
      "metadata": {
        "id": "wWRnxz_Ltlfa",
        "outputId": "194f5b5a-daa7-4c1b-dfa4-b20f223fdc8e",
        "colab": {
          "base_uri": "https://localhost:8080/"
        }
      },
      "execution_count": 7,
      "outputs": [
        {
          "output_type": "stream",
          "name": "stdout",
          "text": [
            "0.9432234432234432\n"
          ]
        }
      ]
    },
    {
      "cell_type": "markdown",
      "metadata": {
        "id": "EJ7aAEoKmkTV"
      },
      "source": [
        "Following on Exercise #2, let's do the same thing, but this time we will try different values for the proportion of the population that is actually infected. What you should notice is that the **PROPORTION INFECTED GIVEN A POSITIVE TEST** depends (a lot!) on the **OVERALL RATE OF INFECTION**. Put another way, to determine the probabilty of a hypothesis, given your data (e.g., proportion infected given a positive test), you have to know the probability that the hypothesis was true without any data.\n",
        "\n",
        "Why is this the case? It is a simple consequence of the definition of a conditional probability, formulated as Bayes' Rule. Specifically, the joint probability of two events, call them A and B, is defined as: $$p(A\\,and\\,B) = p(A) \\times p(B\\,|\\,A)$$ $$p(B\\,and\\,A) = p(B) \\times p(A\\,|\\,B)$$\n",
        "\n",
        "Now, calling A the Hypothesis and B the Data, then rearranging, we get:$$p(Hypothesis\\,|\\,Data) = \\frac{p(Data\\,|\\,Hypothesis) \\times p(Hypothesis)}{p(Data)}$$\n",
        "\n",
        "So you cannot calculate the probability of the hypothesis, given the data (i.e., the Bayesian posterior), without knowing the probability of the hypothesis independent of any data (i.e., the prior).\n",
        "\n",
        "For this exercise, assume a range of priors (infection rates) from 0 to 1 in steps of 0.1."
      ]
    },
    {
      "cell_type": "code",
      "source": [
        "\n",
        "infected_proportions=np.arange(0.1, 1.1, 0.1)\n",
        "\n",
        "for rate in infected_proportions:\n",
        "  infected = st.binom.rvs(1, rate, size = N)\n",
        "  #this will make a numpy array\n",
        "  #infected are 1s, 0s are uninfected\n",
        "  #this function is flipping a coin 1000 times, if you land on 1, it's infected. this is how we are generating our sample\n",
        "\n",
        "  number_infected=infected.sum()\n",
        "  #command to count number of infected people\n",
        "  #next command will need to determine how many people got a positive. \n",
        "\n",
        "  is_positive=np.copy(infected)\n",
        "  # because false negative rate is 0, this is true\n",
        "\n",
        "  is_positive[infected==0] = st.binom.rvs(1, false_positive_rate, size = N-number_infected)\n",
        "  #taking entire is_positive array, which comes from infected binomial distribution, out of that array, 0s represent uninfected currently at 50%, take those 0s out and replace with a new distribution where 5% of the new values are accounting for false positive, so it will be mostly 0s but now with some more 1.\n",
        "\n",
        "  probability_is_infected_given_is_positive = (np.logical_and(infected==1, is_positive==1).sum())/is_positive.sum()\n",
        "  \n",
        "  probability_data_given_hypothesis=1-false_positive_rate\n",
        "  probability_hypothesis=rate\n",
        "  #assumption of our hypothesis without any data (prior)\n",
        "  probability_data=is_positive.sum()/is_positive.size\n",
        "\n",
        "  probability_hypothesis_given_data=(probability_data_given_hypothesis * probability_hypothesis) / probability_data\n",
        "  #posterior\n",
        "\n",
        "  print(f'Infection rate={rate:.1f}, proportion infected given a positive test = {probability_is_infected_given_is_positive:.3f}, posterior = {probability_hypothesis_given_data:.3f}')\n"
      ],
      "metadata": {
        "id": "U4L5aVmz5cAX",
        "outputId": "7b83c078-0d43-47a4-aaa5-4fffcd7958dc",
        "colab": {
          "base_uri": "https://localhost:8080/"
        }
      },
      "execution_count": 10,
      "outputs": [
        {
          "output_type": "stream",
          "name": "stdout",
          "text": [
            "Infection rate=0.1, proportion infected given a positive test = 0.650, posterior = 0.693\n",
            "Infection rate=0.2, proportion infected given a positive test = 0.798, posterior = 0.725\n",
            "Infection rate=0.3, proportion infected given a positive test = 0.880, posterior = 0.899\n",
            "Infection rate=0.4, proportion infected given a positive test = 0.951, posterior = 0.894\n",
            "Infection rate=0.5, proportion infected given a positive test = 0.960, posterior = 0.859\n",
            "Infection rate=0.6, proportion infected given a positive test = 0.965, posterior = 0.916\n",
            "Infection rate=0.7, proportion infected given a positive test = 0.976, posterior = 0.930\n",
            "Infection rate=0.8, proportion infected given a positive test = 0.990, posterior = 0.944\n",
            "Infection rate=0.9, proportion infected given a positive test = 0.994, posterior = 0.946\n",
            "Infection rate=1.0, proportion infected given a positive test = 1.000, posterior = 0.950\n"
          ]
        }
      ]
    },
    {
      "cell_type": "markdown",
      "metadata": {
        "id": "tteEm2Qlgbb3"
      },
      "source": [
        "# Credits\n",
        "\n",
        "Copyright 2021 by Joshua I. Gold, University of Pennsylvania"
      ]
    }
  ],
  "metadata": {
    "colab": {
      "collapsed_sections": [
        "pKIiY6p3GRFq",
        "J3hkaaTFlukb"
      ],
      "name": "Frequentist Versus Bayesian Approaches",
      "provenance": [],
      "toc_visible": true
    },
    "kernelspec": {
      "display_name": "Python 3",
      "name": "python3"
    },
    "language_info": {
      "name": "python"
    }
  },
  "nbformat": 4,
  "nbformat_minor": 0
}